{
 "cells": [
  {
   "cell_type": "code",
   "execution_count": 6,
   "metadata": {},
   "outputs": [],
   "source": [
    "import networkx as nx\n",
    "import pandas as pd\n",
    "import random"
   ]
  },
  {
   "cell_type": "code",
   "execution_count": 7,
   "metadata": {},
   "outputs": [],
   "source": [
    "def estimate_influence_spread(G, seed_set, num_simulations=10):\n",
    "    def simulate_diffusion(G, seed_set):\n",
    "        active_nodes = set(seed_set)\n",
    "        newly_active_nodes = set(seed_set)\n",
    "        while newly_active_nodes:\n",
    "            next_newly_active_nodes = set()\n",
    "            for node in newly_active_nodes:\n",
    "                neighbors = set(G.neighbors(node))\n",
    "                for neighbor in neighbors - active_nodes:\n",
    "                    if random.random() < 0.1:  # Activation probability\n",
    "                        next_newly_active_nodes.add(neighbor)\n",
    "            active_nodes.update(next_newly_active_nodes)\n",
    "            newly_active_nodes = next_newly_active_nodes\n",
    "        return len(active_nodes)\n",
    "\n",
    "    total_spread = 0\n",
    "    for _ in range(num_simulations):\n",
    "        total_spread += simulate_diffusion(G, seed_set)\n",
    "    return total_spread / num_simulations"
   ]
  },
  {
   "cell_type": "code",
   "execution_count": 8,
   "metadata": {},
   "outputs": [],
   "source": [
    "def influence_maximization(G, k):\n",
    "    seed_set = set()\n",
    "    for _ in range(k):\n",
    "        best_node = None\n",
    "        best_spread = 0\n",
    "        for node in G.nodes:\n",
    "            if node not in seed_set:\n",
    "                temp_set = seed_set | {node}\n",
    "                spread = estimate_influence_spread(G, temp_set)\n",
    "                if spread > best_spread:\n",
    "                    best_spread = spread\n",
    "                    best_node = node\n",
    "        if best_node is not None:\n",
    "            seed_set.add(best_node)\n",
    "    return seed_set"
   ]
  },
  {
   "cell_type": "code",
   "execution_count": 9,
   "metadata": {},
   "outputs": [
    {
     "name": "stdout",
     "output_type": "stream",
     "text": [
      "Selected nodes for influence maximization: {672, 2434, 111}\n"
     ]
    }
   ],
   "source": [
    "df = pd.read_csv('../../facebook_clean_data/tvshow_edges.csv')\n",
    "# Create a sample graph\n",
    "G = nx.from_pandas_edgelist(df, 'node_1', 'node_2')\n",
    "\n",
    "# Run greedy influence maximization\n",
    "k = 3  # Number of nodes to select\n",
    "selected_nodes = influence_maximization(G, k)\n",
    "\n",
    "print(f\"Selected nodes for influence maximization: {selected_nodes}\")"
   ]
  }
 ],
 "metadata": {
  "kernelspec": {
   "display_name": "Python 3",
   "language": "python",
   "name": "python3"
  },
  "language_info": {
   "codemirror_mode": {
    "name": "ipython",
    "version": 3
   },
   "file_extension": ".py",
   "mimetype": "text/x-python",
   "name": "python",
   "nbconvert_exporter": "python",
   "pygments_lexer": "ipython3",
   "version": "3.10.3"
  }
 },
 "nbformat": 4,
 "nbformat_minor": 2
}
