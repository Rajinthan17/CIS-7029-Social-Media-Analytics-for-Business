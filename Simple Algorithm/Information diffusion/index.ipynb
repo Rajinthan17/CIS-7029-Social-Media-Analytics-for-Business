{
 "cells": [
  {
   "cell_type": "code",
   "execution_count": 1,
   "metadata": {},
   "outputs": [],
   "source": [
    "import networkx as nx\n",
    "import random\n",
    "import pandas as pd"
   ]
  },
  {
   "cell_type": "code",
   "execution_count": 2,
   "metadata": {},
   "outputs": [],
   "source": [
    "def simulate_information_diffusion(G, seed_set, activation_prob=0.1):\n",
    "    active_nodes = set(seed_set)\n",
    "    newly_active_nodes = set(seed_set)\n",
    "    \n",
    "    while newly_active_nodes:\n",
    "        next_newly_active_nodes = set()\n",
    "        for node in newly_active_nodes:\n",
    "            neighbors = set(G.neighbors(node))\n",
    "            for neighbor in neighbors - active_nodes:\n",
    "                if random.random() < activation_prob:  # Probability of information passing\n",
    "                    next_newly_active_nodes.add(neighbor)\n",
    "        active_nodes.update(next_newly_active_nodes)\n",
    "        newly_active_nodes = next_newly_active_nodes\n",
    "    \n",
    "    return len(active_nodes)"
   ]
  },
  {
   "cell_type": "code",
   "execution_count": 3,
   "metadata": {},
   "outputs": [],
   "source": [
    "def estimate_information_diffusion(G, seed_set, num_simulations=10, activation_prob=0.1):\n",
    "    total_spread = 0\n",
    "    for _ in range(num_simulations):\n",
    "        total_spread += simulate_information_diffusion(G, seed_set, activation_prob)\n",
    "    return total_spread / num_simulations"
   ]
  },
  {
   "cell_type": "code",
   "execution_count": 4,
   "metadata": {},
   "outputs": [],
   "source": [
    "def greedy_information_diffusion(G, k, num_simulations=10, activation_prob=0.1):\n",
    "    seed_set = set()\n",
    "    for _ in range(k):\n",
    "        best_node = None\n",
    "        best_spread = 0\n",
    "        for node in G.nodes:\n",
    "            if node not in seed_set:\n",
    "                temp_set = seed_set | {node}\n",
    "                spread = estimate_information_diffusion(G, temp_set, num_simulations, activation_prob)\n",
    "                if spread > best_spread:\n",
    "                    best_spread = spread\n",
    "                    best_node = node\n",
    "        if best_node is not None:\n",
    "            seed_set.add(best_node)\n",
    "    return seed_set"
   ]
  },
  {
   "cell_type": "code",
   "execution_count": 5,
   "metadata": {},
   "outputs": [
    {
     "name": "stdout",
     "output_type": "stream",
     "text": [
      "Selected nodes for information diffusion: {3762, 386, 411}\n"
     ]
    }
   ],
   "source": [
    "# Create a sample graph\n",
    "G = nx.Graph()\n",
    "df = pd.read_csv('../../facebook_clean_data/tvshow_edges.csv')\n",
    "# Create a sample graph\n",
    "G = nx.from_pandas_edgelist(df, 'node_1', 'node_2')\n",
    "\n",
    "# Run greedy information diffusion\n",
    "k = 3  # Number of nodes to select\n",
    "selected_nodes = greedy_information_diffusion(G, k)\n",
    "\n",
    "print(f\"Selected nodes for information diffusion: {selected_nodes}\")"
   ]
  }
 ],
 "metadata": {
  "kernelspec": {
   "display_name": "Python 3",
   "language": "python",
   "name": "python3"
  },
  "language_info": {
   "codemirror_mode": {
    "name": "ipython",
    "version": 3
   },
   "file_extension": ".py",
   "mimetype": "text/x-python",
   "name": "python",
   "nbconvert_exporter": "python",
   "pygments_lexer": "ipython3",
   "version": "3.10.3"
  }
 },
 "nbformat": 4,
 "nbformat_minor": 2
}
