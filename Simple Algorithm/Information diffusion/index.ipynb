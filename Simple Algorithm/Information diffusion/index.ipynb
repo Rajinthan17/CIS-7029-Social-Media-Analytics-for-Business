{
 "cells": [
  {
   "cell_type": "code",
   "execution_count": 1,
   "metadata": {},
   "outputs": [],
   "source": [
    "import networkx as nx\n",
    "import random\n",
    "import pandas as pd"
   ]
  },
  {
   "cell_type": "code",
   "execution_count": 2,
   "metadata": {},
   "outputs": [],
   "source": [
    "def simulate_information_diffusion(G, seed_set, activation_prob=0.1):\n",
    "    active_nodes = set(seed_set)\n",
    "    newly_active_nodes = set(seed_set)\n",
    "    \n",
    "    while newly_active_nodes:\n",
    "        next_newly_active_nodes = set()\n",
    "        for node in newly_active_nodes:\n",
    "            neighbors = set(G.neighbors(node))\n",
    "            for neighbor in neighbors - active_nodes:\n",
    "                if random.random() < activation_prob:  # Probability of information passing\n",
    "                    next_newly_active_nodes.add(neighbor)\n",
    "        active_nodes.update(next_newly_active_nodes)\n",
    "        newly_active_nodes = next_newly_active_nodes\n",
    "    \n",
    "    return len(active_nodes)"
   ]
  },
  {
   "cell_type": "code",
   "execution_count": 3,
   "metadata": {},
   "outputs": [],
   "source": [
    "def estimate_information_diffusion(G, seed_set, num_simulations=10, activation_prob=0.1):\n",
    "    total_spread = 0\n",
    "    for _ in range(num_simulations):\n",
    "        total_spread += simulate_information_diffusion(G, seed_set, activation_prob)\n",
    "    return total_spread / num_simulations"
   ]
  },
  {
   "cell_type": "code",
   "execution_count": 4,
   "metadata": {},
   "outputs": [],
   "source": [
    "def greedy_information_diffusion(G, k, num_simulations=10, activation_prob=0.1):\n",
    "    seed_set = set()\n",
    "    for _ in range(k):\n",
    "        best_node = None\n",
    "        best_spread = 0\n",
    "        for node in G.nodes:\n",
    "            if node not in seed_set:\n",
    "                temp_set = seed_set | {node}\n",
    "                spread = estimate_information_diffusion(G, temp_set, num_simulations, activation_prob)\n",
    "                if spread > best_spread:\n",
    "                    best_spread = spread\n",
    "                    best_node = node\n",
    "        if best_node is not None:\n",
    "            seed_set.add(best_node)\n",
    "    return seed_set"
   ]
  },
  {
   "cell_type": "code",
   "execution_count": 5,
   "metadata": {},
   "outputs": [
    {
     "name": "stdout",
     "output_type": "stream",
     "text": [
      "Selected nodes for information diffusion: {1840, 3251, 1623}\n"
     ]
    }
   ],
   "source": [
    "# Create a sample graph\n",
    "G = nx.Graph()\n",
    "df = pd.read_csv('../../facebook_clean_data/tvshow_edges.csv')\n",
    "# Create a sample graph\n",
    "G = nx.from_pandas_edgelist(df, 'node_1', 'node_2')\n",
    "\n",
    "# Run greedy information diffusion\n",
    "k = 3  # Number of nodes to select\n",
    "selected_nodes = greedy_information_diffusion(G, k)\n",
    "\n",
    "print(f\"Selected nodes for information diffusion: {selected_nodes}\")"
   ]
  },
  {
   "cell_type": "markdown",
   "metadata": {},
   "source": [
    "Functionality:\n",
    "\n",
    "simulate_information_diffusion: This function models the spread of information through a network starting from a set of initial \"seed\" nodes. The spread occurs probabilistically, with each active node having a chance to activate its neighbors based on the activation_prob parameter. The function returns the total number of nodes that were activated during the simulation.\n",
    "\n",
    "estimate_information_diffusion: This function estimates the average spread of information by running multiple simulations (controlled by num_simulations) of the diffusion process. It computes the average number of nodes activated across all simulations, giving a more robust estimate of the spread for a given set of seed nodes.\n",
    "\n",
    "greedy_information_diffusion: This is a greedy algorithm that iteratively selects nodes to maximize the spread of information. In each iteration, the algorithm evaluates all nodes not yet in the seed set and selects the node that, when added, maximizes the estimated spread of information. This process is repeated until k nodes are selected."
   ]
  },
  {
   "cell_type": "markdown",
   "metadata": {},
   "source": [
    "Performance:\n",
    "\n",
    "Efficiency: The greedy algorithm is effective for influence maximization, providing a good trade-off between computational complexity and accuracy. However, it is still computationally expensive, particularly on large graphs, because it involves multiple simulations for each candidate node in every iteration.\n",
    "\n",
    "Scalability: While the algorithm can handle moderately sized networks, it might struggle with very large networks due to the repeated simulation process. The computational cost increases with the size of the network and the number of simulations (num_simulations)."
   ]
  },
  {
   "cell_type": "markdown",
   "metadata": {},
   "source": [
    "Strengths:\n",
    "\n",
    "Effectiveness: The greedy approach is known to approximate the optimal solution well, especially in problems like influence maximization. It systematically builds a seed set that is likely to maximize the spread of information.\n",
    "\n",
    "Customizability: The algorithm allows for customization through parameters like k (the number of nodes to select) and activation_prob (the probability of information spreading between connected nodes), making it adaptable to different types of networks and scenarios."
   ]
  },
  {
   "cell_type": "markdown",
   "metadata": {},
   "source": [
    "Limitations:\n",
    "\n",
    "Computational Cost: The algorithm's performance may degrade with very large networks or high values of num_simulations, as it requires extensive computation to evaluate each candidate node.\n",
    "\n",
    "Simplistic Assumptions: The model assumes a uniform probability (activation_prob) for information spreading across all edges, which may not be realistic for all types of networks where edge weights or other factors could influence diffusion."
   ]
  },
  {
   "cell_type": "markdown",
   "metadata": {},
   "source": [
    "This code provides a robust framework for understanding influence maximization and can serve as a basis for more advanced network analysis tasks."
   ]
  }
 ],
 "metadata": {
  "kernelspec": {
   "display_name": "Python 3",
   "language": "python",
   "name": "python3"
  },
  "language_info": {
   "codemirror_mode": {
    "name": "ipython",
    "version": 3
   },
   "file_extension": ".py",
   "mimetype": "text/x-python",
   "name": "python",
   "nbconvert_exporter": "python",
   "pygments_lexer": "ipython3",
   "version": "3.10.3"
  }
 },
 "nbformat": 4,
 "nbformat_minor": 2
}
