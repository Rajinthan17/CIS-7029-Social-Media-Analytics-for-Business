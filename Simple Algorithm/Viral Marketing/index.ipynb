{
 "cells": [
  {
   "cell_type": "code",
   "execution_count": 1,
   "metadata": {},
   "outputs": [],
   "source": [
    "import networkx as nx\n",
    "import random\n",
    "import pandas as pd"
   ]
  },
  {
   "cell_type": "code",
   "execution_count": 2,
   "metadata": {},
   "outputs": [],
   "source": [
    "def simulate_diffusion(G, seed_set, activation_prob=0.1):\n",
    "    active_nodes = set(seed_set)\n",
    "    newly_active_nodes = set(seed_set)\n",
    "    \n",
    "    while newly_active_nodes:\n",
    "        next_newly_active_nodes = set()\n",
    "        for node in newly_active_nodes:\n",
    "            neighbors = set(G.neighbors(node))\n",
    "            for neighbor in neighbors - active_nodes:\n",
    "                if random.random() < activation_prob:  # Probability of activation\n",
    "                    next_newly_active_nodes.add(neighbor)\n",
    "        active_nodes.update(next_newly_active_nodes)\n",
    "        newly_active_nodes = next_newly_active_nodes\n",
    "    \n",
    "    return len(active_nodes)"
   ]
  },
  {
   "cell_type": "code",
   "execution_count": 3,
   "metadata": {},
   "outputs": [],
   "source": [
    "def estimate_viral_spread(G, seed_set, num_simulations=10, activation_prob=0.1):\n",
    "    total_spread = 0\n",
    "    for _ in range(num_simulations):\n",
    "        total_spread += simulate_diffusion(G, seed_set, activation_prob)\n",
    "    return total_spread / num_simulations"
   ]
  },
  {
   "cell_type": "code",
   "execution_count": 4,
   "metadata": {},
   "outputs": [],
   "source": [
    "def viral_marketing(G, k, num_simulations=10, activation_prob=0.1):\n",
    "    seed_set = set()\n",
    "    for _ in range(k):\n",
    "        best_node = None\n",
    "        best_spread = 0\n",
    "        for node in G.nodes:\n",
    "            if node not in seed_set:\n",
    "                temp_set = seed_set | {node}\n",
    "                spread = estimate_viral_spread(G, temp_set, num_simulations, activation_prob)\n",
    "                if spread > best_spread:\n",
    "                    best_spread = spread\n",
    "                    best_node = node\n",
    "        if best_node is not None:\n",
    "            seed_set.add(best_node)\n",
    "    return seed_set"
   ]
  },
  {
   "cell_type": "code",
   "execution_count": 5,
   "metadata": {},
   "outputs": [
    {
     "name": "stdout",
     "output_type": "stream",
     "text": [
      "Selected nodes for viral marketing: {3369, 3011, 2412}\n"
     ]
    }
   ],
   "source": [
    "# Create a sample graph\n",
    "df = pd.read_csv('../../facebook_clean_data/tvshow_edges.csv')\n",
    "# Create a sample graph\n",
    "G = nx.from_pandas_edgelist(df, 'node_1', 'node_2')\n",
    "# Run greedy viral marketing\n",
    "k = 3  # Number of nodes to select\n",
    "selected_nodes = viral_marketing(G, k)\n",
    "\n",
    "print(f\"Selected nodes for viral marketing: {selected_nodes}\")"
   ]
  },
  {
   "cell_type": "markdown",
   "metadata": {},
   "source": [
    "Functionality:\n",
    "\n",
    "simulate_diffusion: Simulates the process of information spreading through the network. Given an initial set of \"seed\" nodes, the function models how information spreads to neighboring nodes with a specified activation probability (activation_prob). The process continues until no new nodes are activated, and the function returns the total number of activated nodes.\n",
    "\n",
    "estimate_viral_spread: Estimates the average number of nodes influenced by the seed set. It runs multiple simulations (controlled by num_simulations) of the diffusion process to account for randomness and provide a robust estimate of the spread.\n",
    "\n",
    "viral_marketing: A greedy algorithm that selects k nodes to maximize the estimated viral spread. It iteratively evaluates each node not in the current seed set, adding the node that results in the highest increase in the spread of information. This process repeats until k nodes are selected."
   ]
  },
  {
   "cell_type": "markdown",
   "metadata": {},
   "source": [
    "Performance:\n",
    "\n",
    "Efficiency: The greedy approach is effective for viral marketing by incrementally choosing nodes that offer the maximum marginal gain in information spread. It balances between computational complexity and accuracy but can become computationally intensive, especially for large networks, due to multiple simulations for each candidate node.\n",
    "\n",
    "Scalability: The algorithm performs well for moderately sized graphs. However, its computational cost increases with the size of the graph and the number of simulations (num_simulations), which could be a limitation for very large networks."
   ]
  },
  {
   "cell_type": "markdown",
   "metadata": {},
   "source": [
    "Strengths:\n",
    "\n",
    "Effectiveness: The greedy approach is known for its practical effectiveness in influence maximization problems. It provides a reasonable approximation of the optimal solution by focusing on nodes that offer the highest additional spread.\n",
    "\n",
    "Customizability: The algorithm allows flexibility through parameters such as activation_prob (the probability of activation) and num_simulations (the number of simulations), making it adaptable to different network structures and scenarios."
   ]
  },
  {
   "cell_type": "markdown",
   "metadata": {},
   "source": [
    "Limitations:\n",
    "\n",
    "Computational Cost: The primary limitation is the computational expense of running simulations for each node. For large networks or high values of k and num_simulations, this could be time-consuming.\n",
    "\n",
    "Simplistic Diffusion Model: The model assumes a uniform activation probability for all edges, which may not accurately reflect real-world scenarios where activation probabilities could vary."
   ]
  }
 ],
 "metadata": {
  "kernelspec": {
   "display_name": "Python 3",
   "language": "python",
   "name": "python3"
  },
  "language_info": {
   "codemirror_mode": {
    "name": "ipython",
    "version": 3
   },
   "file_extension": ".py",
   "mimetype": "text/x-python",
   "name": "python",
   "nbconvert_exporter": "python",
   "pygments_lexer": "ipython3",
   "version": "3.10.3"
  }
 },
 "nbformat": 4,
 "nbformat_minor": 2
}
